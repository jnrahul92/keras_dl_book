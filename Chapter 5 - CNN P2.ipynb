{
 "cells": [
  {
   "cell_type": "markdown",
   "id": "afe296cd",
   "metadata": {},
   "source": [
    "## Pretrained Covenet"
   ]
  },
  {
   "cell_type": "code",
   "execution_count": 1,
   "id": "85d239cc",
   "metadata": {},
   "outputs": [
    {
     "name": "stderr",
     "output_type": "stream",
     "text": [
      "D:\\anaconda3\\envs\\Keras_DL_Book\\lib\\site-packages\\scipy\\__init__.py:146: UserWarning: A NumPy version >=1.16.5 and <1.23.0 is required for this version of SciPy (detected version 1.23.1\n",
      "  warnings.warn(f\"A NumPy version >={np_minversion} and <{np_maxversion}\"\n"
     ]
    }
   ],
   "source": [
    "from keras.applications import VGG16"
   ]
  },
  {
   "cell_type": "code",
   "execution_count": 2,
   "id": "f38d623f",
   "metadata": {},
   "outputs": [],
   "source": [
    "conv_base = VGG16(weights=\"imagenet\", include_top = False, input_shape = (150, 150, 3))"
   ]
  },
  {
   "cell_type": "code",
   "execution_count": 3,
   "id": "48f81592",
   "metadata": {},
   "outputs": [
    {
     "name": "stdout",
     "output_type": "stream",
     "text": [
      "Model: \"vgg16\"\n",
      "_________________________________________________________________\n",
      " Layer (type)                Output Shape              Param #   \n",
      "=================================================================\n",
      " input_1 (InputLayer)        [(None, 150, 150, 3)]     0         \n",
      "                                                                 \n",
      " block1_conv1 (Conv2D)       (None, 150, 150, 64)      1792      \n",
      "                                                                 \n",
      " block1_conv2 (Conv2D)       (None, 150, 150, 64)      36928     \n",
      "                                                                 \n",
      " block1_pool (MaxPooling2D)  (None, 75, 75, 64)        0         \n",
      "                                                                 \n",
      " block2_conv1 (Conv2D)       (None, 75, 75, 128)       73856     \n",
      "                                                                 \n",
      " block2_conv2 (Conv2D)       (None, 75, 75, 128)       147584    \n",
      "                                                                 \n",
      " block2_pool (MaxPooling2D)  (None, 37, 37, 128)       0         \n",
      "                                                                 \n",
      " block3_conv1 (Conv2D)       (None, 37, 37, 256)       295168    \n",
      "                                                                 \n",
      " block3_conv2 (Conv2D)       (None, 37, 37, 256)       590080    \n",
      "                                                                 \n",
      " block3_conv3 (Conv2D)       (None, 37, 37, 256)       590080    \n",
      "                                                                 \n",
      " block3_pool (MaxPooling2D)  (None, 18, 18, 256)       0         \n",
      "                                                                 \n",
      " block4_conv1 (Conv2D)       (None, 18, 18, 512)       1180160   \n",
      "                                                                 \n",
      " block4_conv2 (Conv2D)       (None, 18, 18, 512)       2359808   \n",
      "                                                                 \n",
      " block4_conv3 (Conv2D)       (None, 18, 18, 512)       2359808   \n",
      "                                                                 \n",
      " block4_pool (MaxPooling2D)  (None, 9, 9, 512)         0         \n",
      "                                                                 \n",
      " block5_conv1 (Conv2D)       (None, 9, 9, 512)         2359808   \n",
      "                                                                 \n",
      " block5_conv2 (Conv2D)       (None, 9, 9, 512)         2359808   \n",
      "                                                                 \n",
      " block5_conv3 (Conv2D)       (None, 9, 9, 512)         2359808   \n",
      "                                                                 \n",
      " block5_pool (MaxPooling2D)  (None, 4, 4, 512)         0         \n",
      "                                                                 \n",
      "=================================================================\n",
      "Total params: 14,714,688\n",
      "Trainable params: 14,714,688\n",
      "Non-trainable params: 0\n",
      "_________________________________________________________________\n"
     ]
    }
   ],
   "source": [
    "conv_base.summary()"
   ]
  },
  {
   "cell_type": "code",
   "execution_count": 4,
   "id": "22bf8af4",
   "metadata": {},
   "outputs": [],
   "source": [
    "import os\n",
    "import numpy as np\n",
    "from keras.preprocessing.image import ImageDataGenerator"
   ]
  },
  {
   "cell_type": "code",
   "execution_count": 5,
   "id": "e0f67882",
   "metadata": {},
   "outputs": [],
   "source": [
    "base_dir = \"cats_and_dogs_small/\"\n",
    "train_dir = os.path.join(base_dir, 'train')\n",
    "validation_dir = os.path.join(base_dir, 'validation')\n",
    "test_dir = os.path.join(base_dir, 'test')"
   ]
  },
  {
   "cell_type": "code",
   "execution_count": 6,
   "id": "f873914c",
   "metadata": {},
   "outputs": [],
   "source": [
    "datagen = ImageDataGenerator(rescale=1./255)\n",
    "batch_size = 20"
   ]
  },
  {
   "cell_type": "code",
   "execution_count": 7,
   "id": "cde9b039",
   "metadata": {},
   "outputs": [],
   "source": [
    "def extract_features(directory, sample_count):\n",
    "    features = np.zeros(shape = (sample_count, 4, 4, 512))\n",
    "    labels = np.zeros(shape = (sample_count))\n",
    "    generator = datagen.flow_from_directory(directory, target_size=(150,150), batch_size=batch_size, class_mode=\"binary\")\n",
    "    i = 0\n",
    "    for inputs_batch, labels_batch in generator:\n",
    "        feature_batch = conv_base.predict(inputs_batch)\n",
    "        features[i * batch_size : (i+1)*batch_size] = feature_batch\n",
    "        labels[i * batch_size : (i+1)*batch_size] = labels_batch\n",
    "        i += 1\n",
    "        if i * batch_size >= sample_count:\n",
    "            break\n",
    "        return features, labels"
   ]
  },
  {
   "cell_type": "code",
   "execution_count": 8,
   "id": "23c64c3c",
   "metadata": {},
   "outputs": [
    {
     "name": "stdout",
     "output_type": "stream",
     "text": [
      "Found 2000 images belonging to 2 classes.\n",
      "1/1 [==============================] - 5s 5s/step\n",
      "Found 1000 images belonging to 2 classes.\n",
      "1/1 [==============================] - 4s 4s/step\n",
      "Found 1000 images belonging to 2 classes.\n",
      "1/1 [==============================] - 4s 4s/step\n"
     ]
    }
   ],
   "source": [
    "train_features, train_labels = extract_features(train_dir, 2000)\n",
    "validation_features, validation_labels = extract_features(validation_dir, 1000)\n",
    "test_features, test_labels = extract_features(test_dir, 1000)"
   ]
  },
  {
   "cell_type": "code",
   "execution_count": 9,
   "id": "469cb5e5",
   "metadata": {},
   "outputs": [],
   "source": [
    "train_features = np.reshape(train_features, (2000 , 4 * 4 * 512))\n",
    "validation_features = np.reshape(validation_features, (1000 , 4 * 4 * 512))\n",
    "test_features = np.reshape(test_features, (1000 , 4 * 4* 512))"
   ]
  },
  {
   "cell_type": "code",
   "execution_count": 10,
   "id": "9b5f8f13",
   "metadata": {},
   "outputs": [],
   "source": [
    "from keras import models\n",
    "from keras import layers\n",
    "from keras import optimizers"
   ]
  },
  {
   "cell_type": "code",
   "execution_count": 11,
   "id": "2b6f1574",
   "metadata": {},
   "outputs": [],
   "source": [
    "model = models.Sequential()\n",
    "model.add(layers.Dense(256, activation=\"relu\", input_dim = 4*4*512))\n",
    "model.add(layers.Dropout(0.5))\n",
    "model.add(layers.Dense(1, activation=\"sigmoid\"))"
   ]
  },
  {
   "cell_type": "code",
   "execution_count": 12,
   "id": "a385c0d1",
   "metadata": {},
   "outputs": [],
   "source": [
    "model.compile(optimizer= optimizers.RMSprop(learning_rate=2e-5),\n",
    "             loss= \"binary_crossentropy\",\n",
    "             metrics=['acc'])"
   ]
  },
  {
   "cell_type": "code",
   "execution_count": 13,
   "id": "9285e0a7",
   "metadata": {},
   "outputs": [
    {
     "name": "stdout",
     "output_type": "stream",
     "text": [
      "Epoch 1/30\n",
      "100/100 [==============================] - 9s 65ms/step - loss: 0.6912 - acc: 0.9870 - val_loss: 0.6890 - val_acc: 0.9890\n",
      "Epoch 2/30\n",
      "100/100 [==============================] - 6s 56ms/step - loss: 0.6837 - acc: 0.9970 - val_loss: 0.6818 - val_acc: 0.9900\n",
      "Epoch 3/30\n",
      "100/100 [==============================] - 5s 47ms/step - loss: 0.6766 - acc: 0.9970 - val_loss: 0.6742 - val_acc: 0.9890\n",
      "Epoch 4/30\n",
      "100/100 [==============================] - 6s 56ms/step - loss: 0.6674 - acc: 0.9970 - val_loss: 0.6670 - val_acc: 0.9890\n",
      "Epoch 5/30\n",
      "100/100 [==============================] - 5s 55ms/step - loss: 0.6585 - acc: 0.9970 - val_loss: 0.6596 - val_acc: 0.9880\n",
      "Epoch 6/30\n",
      "100/100 [==============================] - 5s 54ms/step - loss: 0.6494 - acc: 0.9985 - val_loss: 0.6502 - val_acc: 0.9890\n",
      "Epoch 7/30\n",
      "100/100 [==============================] - 5s 54ms/step - loss: 0.6414 - acc: 0.9980 - val_loss: 0.6415 - val_acc: 0.9890\n",
      "Epoch 8/30\n",
      "100/100 [==============================] - 5s 53ms/step - loss: 0.6332 - acc: 0.9980 - val_loss: 0.6314 - val_acc: 0.9930\n",
      "Epoch 9/30\n",
      "100/100 [==============================] - 5s 54ms/step - loss: 0.6225 - acc: 0.9995 - val_loss: 0.6211 - val_acc: 0.9930\n",
      "Epoch 10/30\n",
      "100/100 [==============================] - 6s 55ms/step - loss: 0.6131 - acc: 0.9990 - val_loss: 0.6116 - val_acc: 0.9930\n",
      "Epoch 11/30\n",
      "100/100 [==============================] - 5s 55ms/step - loss: 0.6037 - acc: 0.9985 - val_loss: 0.6030 - val_acc: 0.9940\n",
      "Epoch 12/30\n",
      "100/100 [==============================] - 6s 60ms/step - loss: 0.5945 - acc: 0.9980 - val_loss: 0.5948 - val_acc: 0.9900\n",
      "Epoch 13/30\n",
      "100/100 [==============================] - 6s 59ms/step - loss: 0.5824 - acc: 1.0000 - val_loss: 0.5837 - val_acc: 0.9920\n",
      "Epoch 14/30\n",
      "100/100 [==============================] - 5s 53ms/step - loss: 0.5717 - acc: 1.0000 - val_loss: 0.5722 - val_acc: 0.9940\n",
      "Epoch 15/30\n",
      "100/100 [==============================] - 5s 54ms/step - loss: 0.5621 - acc: 0.9995 - val_loss: 0.5626 - val_acc: 0.9940\n",
      "Epoch 16/30\n",
      "100/100 [==============================] - 6s 55ms/step - loss: 0.5518 - acc: 0.9995 - val_loss: 0.5511 - val_acc: 0.9940\n",
      "Epoch 17/30\n",
      "100/100 [==============================] - 6s 56ms/step - loss: 0.5402 - acc: 0.9995 - val_loss: 0.5421 - val_acc: 0.9930\n",
      "Epoch 18/30\n",
      "100/100 [==============================] - 6s 56ms/step - loss: 0.5300 - acc: 0.9995 - val_loss: 0.5320 - val_acc: 0.9920\n",
      "Epoch 19/30\n",
      "100/100 [==============================] - 5s 53ms/step - loss: 0.5184 - acc: 0.9995 - val_loss: 0.5210 - val_acc: 0.9930\n",
      "Epoch 20/30\n",
      "100/100 [==============================] - 5s 55ms/step - loss: 0.5071 - acc: 1.0000 - val_loss: 0.5087 - val_acc: 0.9940\n",
      "Epoch 21/30\n",
      "100/100 [==============================] - 5s 55ms/step - loss: 0.4957 - acc: 1.0000 - val_loss: 0.4994 - val_acc: 0.9920\n",
      "Epoch 22/30\n",
      "100/100 [==============================] - 5s 55ms/step - loss: 0.4847 - acc: 1.0000 - val_loss: 0.4876 - val_acc: 0.9920\n",
      "Epoch 23/30\n",
      "100/100 [==============================] - 6s 56ms/step - loss: 0.4735 - acc: 1.0000 - val_loss: 0.4792 - val_acc: 0.9910\n",
      "Epoch 24/30\n",
      "100/100 [==============================] - 6s 57ms/step - loss: 0.4626 - acc: 1.0000 - val_loss: 0.4651 - val_acc: 0.9920\n",
      "Epoch 25/30\n",
      "100/100 [==============================] - 6s 60ms/step - loss: 0.4499 - acc: 1.0000 - val_loss: 0.4556 - val_acc: 0.9910\n",
      "Epoch 26/30\n",
      "100/100 [==============================] - 6s 59ms/step - loss: 0.4381 - acc: 1.0000 - val_loss: 0.4408 - val_acc: 0.9930\n",
      "Epoch 27/30\n",
      "100/100 [==============================] - 6s 57ms/step - loss: 0.4263 - acc: 1.0000 - val_loss: 0.4330 - val_acc: 0.9910\n",
      "Epoch 28/30\n",
      "100/100 [==============================] - 6s 57ms/step - loss: 0.4152 - acc: 1.0000 - val_loss: 0.4206 - val_acc: 0.9920\n",
      "Epoch 29/30\n",
      "100/100 [==============================] - 6s 57ms/step - loss: 0.4041 - acc: 1.0000 - val_loss: 0.4082 - val_acc: 0.9930\n",
      "Epoch 30/30\n",
      "100/100 [==============================] - 6s 58ms/step - loss: 0.3922 - acc: 1.0000 - val_loss: 0.3969 - val_acc: 0.9930\n"
     ]
    }
   ],
   "source": [
    "history = model.fit(train_features, train_labels, epochs=30, batch_size = 20,\n",
    "                   validation_data= (validation_features, validation_labels))"
   ]
  },
  {
   "cell_type": "code",
   "execution_count": 14,
   "id": "f393e0a1",
   "metadata": {},
   "outputs": [],
   "source": [
    "import matplotlib.pyplot as plt\n",
    "\n",
    "acc = history.history['acc']\n",
    "val_acc = history.history['val_acc']\n",
    "loss = history.history['loss']\n",
    "val_loss = history.history['val_loss']"
   ]
  },
  {
   "cell_type": "code",
   "execution_count": 15,
   "id": "e90943a3",
   "metadata": {},
   "outputs": [],
   "source": [
    "epochs = range(1, len(acc)+1)"
   ]
  },
  {
   "cell_type": "code",
   "execution_count": 16,
   "id": "23cb803d",
   "metadata": {},
   "outputs": [
    {
     "data": {
      "image/png": "[encoded data removed]",
      "text/plain": [
       "<Figure size 432x288 with 1 Axes>"
      ]
     },
     "metadata": {
      "needs_background": "light"
     },
     "output_type": "display_data"
    },
    {
     "data": {
      "image/png": "[encoded data removed]",
      "text/plain": [
       "<Figure size 432x288 with 1 Axes>"
      ]
     },
     "metadata": {
      "needs_background": "light"
     },
     "output_type": "display_data"
    }
   ],
   "source": [
    "plt.plot(epochs, acc, \"bo\", label = \"Training Accuracy\")\n",
    "plt.plot(epochs, val_acc, 'b', label = \"Validation Accuracy\")\n",
    "plt.title(\"Training and Validation Accuracy\")\n",
    "plt.legend()\n",
    "\n",
    "plt.figure()\n",
    "\n",
    "plt.plot(epochs, loss, 'bo', label = \"Training Loss\")\n",
    "plt.plot(epochs, val_loss, 'b', label = \"Validation Loss\")\n",
    "plt.title(\"Training and Validation Loss\")\n",
    "plt.legend()\n",
    "\n",
    "plt.show()"
   ]
  },
  {
   "cell_type": "code",
   "execution_count": 17,
   "id": "8061f8ee",
   "metadata": {},
   "outputs": [],
   "source": [
    "model = models.Sequential()\n",
    "model.add(conv_base)\n",
    "model.add(layers.Flatten())\n",
    "model.add(layers.Dense(256, activation='relu'))\n",
    "model.add(layers.Dense(1, activation=\"sigmoid\"))"
   ]
  },
  {
   "cell_type": "code",
   "execution_count": 18,
   "id": "a52208e1",
   "metadata": {},
   "outputs": [
    {
     "name": "stdout",
     "output_type": "stream",
     "text": [
      "Model: \"sequential_1\"\n",
      "_________________________________________________________________\n",
      " Layer (type)                Output Shape              Param #   \n",
      "=================================================================\n",
      " vgg16 (Functional)          (None, 4, 4, 512)         14714688  \n",
      "                                                                 \n",
      " flatten (Flatten)           (None, 8192)              0         \n",
      "                                                                 \n",
      " dense_2 (Dense)             (None, 256)               2097408   \n",
      "                                                                 \n",
      " dense_3 (Dense)             (None, 1)                 257       \n",
      "                                                                 \n",
      "=================================================================\n",
      "Total params: 16,812,353\n",
      "Trainable params: 16,812,353\n",
      "Non-trainable params: 0\n",
      "_________________________________________________________________\n"
     ]
    }
   ],
   "source": [
    "model.summary()"
   ]
  },
  {
   "cell_type": "code",
   "execution_count": 19,
   "id": "91978ab9",
   "metadata": {},
   "outputs": [
    {
     "name": "stdout",
     "output_type": "stream",
     "text": [
      "Trainable Number of weights before freezing the conv base :  30\n"
     ]
    }
   ],
   "source": [
    "print(\"Trainable Number of weights before freezing the conv base : \", len(model.trainable_weights))"
   ]
  },
  {
   "cell_type": "code",
   "execution_count": 20,
   "id": "d3597ec8",
   "metadata": {},
   "outputs": [],
   "source": [
    "conv_base.trainable = False"
   ]
  },
  {
   "cell_type": "code",
   "execution_count": 21,
   "id": "49821c4e",
   "metadata": {},
   "outputs": [
    {
     "name": "stdout",
     "output_type": "stream",
     "text": [
      "Trainable Number of weights after freezing the conv base :  4\n"
     ]
    }
   ],
   "source": [
    "print(\"Trainable Number of weights after freezing the conv base : \", len(model.trainable_weights))"
   ]
  },
  {
   "cell_type": "code",
   "execution_count": 22,
   "id": "160c4d31",
   "metadata": {},
   "outputs": [],
   "source": [
    "train_datagen = ImageDataGenerator(rescale= 1./25, rotation_range=40, shear_range=0.2,\n",
    "                                  width_shift_range=0.2, height_shift_range=0.2, zoom_range=0.2,\n",
    "                                  horizontal_flip=True, fill_mode=\"nearest\")"
   ]
  },
  {
   "cell_type": "code",
   "execution_count": 23,
   "id": "b176cbd0",
   "metadata": {},
   "outputs": [],
   "source": [
    "test_datagen = ImageDataGenerator(rescale=1./255)"
   ]
  },
  {
   "cell_type": "code",
   "execution_count": 24,
   "id": "aa247562",
   "metadata": {},
   "outputs": [
    {
     "name": "stdout",
     "output_type": "stream",
     "text": [
      "Found 2000 images belonging to 2 classes.\n",
      "Found 1000 images belonging to 2 classes.\n"
     ]
    }
   ],
   "source": [
    "train_generator = train_datagen.flow_from_directory(train_dir, target_size=(150,150), batch_size=20, class_mode=\"binary\")\n",
    "validation_generator = test_datagen.flow_from_directory(validation_dir, target_size=(150, 150), batch_size=20,\n",
    "                                                       class_mode=\"binary\")"
   ]
  },
  {
   "cell_type": "code",
   "execution_count": 25,
   "id": "a83b51e9",
   "metadata": {},
   "outputs": [],
   "source": [
    "model.compile(loss= \"binary_crossentropy\", optimizer = optimizers.RMSprop(learning_rate=2e-5),\n",
    "             metrics=['acc'])"
   ]
  },
  {
   "cell_type": "code",
   "execution_count": 26,
   "id": "790608cd",
   "metadata": {},
   "outputs": [
    {
     "name": "stdout",
     "output_type": "stream",
     "text": [
      "Epoch 1/5\n",
      "100/100 [==============================] - 295s 3s/step - loss: 0.4633 - acc: 0.7720 - val_loss: 0.5768 - val_acc: 0.6540\n",
      "Epoch 2/5\n",
      "100/100 [==============================] - 306s 3s/step - loss: 0.2975 - acc: 0.8680 - val_loss: 0.5472 - val_acc: 0.6780\n",
      "Epoch 3/5\n",
      "100/100 [==============================] - 313s 3s/step - loss: 0.2576 - acc: 0.8900 - val_loss: 0.5396 - val_acc: 0.6860\n",
      "Epoch 4/5\n",
      "100/100 [==============================] - 303s 3s/step - loss: 0.2210 - acc: 0.9055 - val_loss: 0.6383 - val_acc: 0.6300\n",
      "Epoch 5/5\n",
      "100/100 [==============================] - 307s 3s/step - loss: 0.2130 - acc: 0.9160 - val_loss: 0.6003 - val_acc: 0.6490\n"
     ]
    }
   ],
   "source": [
    "history = model.fit(train_generator, steps_per_epoch=100, epochs=5, validation_data=validation_generator,\n",
    "                   validation_steps=50)"
   ]
  },
  {
   "cell_type": "code",
   "execution_count": 27,
   "id": "e2256dfc",
   "metadata": {},
   "outputs": [],
   "source": [
    "conv_base.trainable = True\n",
    "\n",
    "set_trainable = False\n",
    "for layer in conv_base.layers:\n",
    "    if layer.name == 'block5_conv1':\n",
    "        set_trainable = True\n",
    "    if set_trainable:\n",
    "        layer.trainable = True\n",
    "    else:\n",
    "        layer.trainable = False"
   ]
  },
  {
   "cell_type": "code",
   "execution_count": 28,
   "id": "3e178c6f",
   "metadata": {},
   "outputs": [],
   "source": [
    "model.compile(loss= \"binary_crossentropy\", optimizer = optimizers.RMSprop(learning_rate=1e-5),\n",
    "             metrics=['acc'])"
   ]
  },
  {
   "cell_type": "code",
   "execution_count": 29,
   "id": "5033d1a7",
   "metadata": {},
   "outputs": [
    {
     "name": "stdout",
     "output_type": "stream",
     "text": [
      "Epoch 1/10\n",
      "100/100 [==============================] - 363s 4s/step - loss: 0.2065 - acc: 0.9075 - val_loss: 0.4778 - val_acc: 0.7430\n",
      "Epoch 2/10\n",
      "100/100 [==============================] - 362s 4s/step - loss: 0.1602 - acc: 0.9355 - val_loss: 0.7009 - val_acc: 0.6340\n",
      "Epoch 3/10\n",
      "100/100 [==============================] - 361s 4s/step - loss: 0.1348 - acc: 0.9420 - val_loss: 0.5843 - val_acc: 0.6850\n",
      "Epoch 4/10\n",
      "100/100 [==============================] - 370s 4s/step - loss: 0.1429 - acc: 0.9475 - val_loss: 0.6155 - val_acc: 0.6640\n",
      "Epoch 5/10\n",
      "100/100 [==============================] - 383s 4s/step - loss: 0.1215 - acc: 0.9460 - val_loss: 0.4025 - val_acc: 0.7990\n",
      "Epoch 6/10\n",
      "100/100 [==============================] - 359s 4s/step - loss: 0.1072 - acc: 0.9615 - val_loss: 0.4810 - val_acc: 0.7430\n",
      "Epoch 7/10\n",
      "100/100 [==============================] - 364s 4s/step - loss: 0.1135 - acc: 0.9565 - val_loss: 0.6127 - val_acc: 0.6800\n",
      "Epoch 8/10\n",
      "100/100 [==============================] - 359s 4s/step - loss: 0.0932 - acc: 0.9595 - val_loss: 0.4580 - val_acc: 0.7650\n",
      "Epoch 9/10\n",
      "100/100 [==============================] - 360s 4s/step - loss: 0.0885 - acc: 0.9655 - val_loss: 0.6138 - val_acc: 0.6870\n",
      "Epoch 10/10\n",
      "100/100 [==============================] - 359s 4s/step - loss: 0.0729 - acc: 0.9715 - val_loss: 0.5845 - val_acc: 0.7160\n"
     ]
    }
   ],
   "source": [
    "history = model.fit(train_generator, steps_per_epoch=100, epochs=10, validation_data=validation_generator,\n",
    "                   validation_steps=50)"
   ]
  },
  {
   "cell_type": "code",
   "execution_count": 30,
   "id": "274a5ff8",
   "metadata": {},
   "outputs": [
    {
     "name": "stdout",
     "output_type": "stream",
     "text": [
      "Found 1000 images belonging to 2 classes.\n"
     ]
    }
   ],
   "source": [
    "test_generator = test_datagen.flow_from_directory(test_dir, target_size = (150,150),\n",
    "                                                 batch_size = 20, class_mode = 'binary')"
   ]
  },
  {
   "cell_type": "code",
   "execution_count": 31,
   "id": "cb1ef0d8",
   "metadata": {},
   "outputs": [
    {
     "name": "stdout",
     "output_type": "stream",
     "text": [
      "50/50 [==============================] - 100s 2s/step - loss: 0.5783 - acc: 0.7130\n"
     ]
    }
   ],
   "source": [
    "test_loss, test_acc = model.evaluate(test_generator, steps=50)"
   ]
  },
  {
   "cell_type": "code",
   "execution_count": 32,
   "id": "27f78235",
   "metadata": {},
   "outputs": [
    {
     "name": "stdout",
     "output_type": "stream",
     "text": [
      "Test Accuracy :  0.7129999995231628\n"
     ]
    }
   ],
   "source": [
    "print(\"Test Accuracy : \",test_acc)"
   ]
  },
  {
   "cell_type": "code",
   "execution_count": null,
   "id": "14adaf71",
   "metadata": {},
   "outputs": [],
   "source": []
  }
 ],
 "metadata": {
  "kernelspec": {
   "display_name": "Python [conda env:Keras_DL_Book]",
   "language": "python",
   "name": "conda-env-Keras_DL_Book-py"
  },
  "language_info": {
   "codemirror_mode": {
    "name": "ipython",
    "version": 3
   },
   "file_extension": ".py",
   "mimetype": "text/x-python",
   "name": "python",
   "nbconvert_exporter": "python",
   "pygments_lexer": "ipython3",
   "version": "3.10.4"
  }
 },
 "nbformat": 4,
 "nbformat_minor": 5
}
