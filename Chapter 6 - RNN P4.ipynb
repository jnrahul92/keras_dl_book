{
 "cells": [
  {
   "cell_type": "code",
   "execution_count": 5,
   "id": "9cdaccb0",
   "metadata": {},
   "outputs": [],
   "source": [
    "from keras.datasets import imdb\n",
    "from keras.preprocessing import sequence\n",
    "from tensorflow.keras.utils import pad_sequences"
   ]
  },
  {
   "cell_type": "code",
   "execution_count": 2,
   "id": "d8c9eeb6",
   "metadata": {},
   "outputs": [],
   "source": [
    "max_features = 10000\n",
    "max_len = 500"
   ]
  },
  {
   "cell_type": "code",
   "execution_count": 3,
   "id": "fe0adb69",
   "metadata": {},
   "outputs": [
    {
     "name": "stdout",
     "output_type": "stream",
     "text": [
      "Loading Data ...\n"
     ]
    }
   ],
   "source": [
    "print(\"Loading Data ...\")\n",
    "(x_train, y_train), (x_test, y_test) = imdb.load_data(num_words=max_features)"
   ]
  },
  {
   "cell_type": "code",
   "execution_count": 4,
   "id": "0a0275d3",
   "metadata": {},
   "outputs": [
    {
     "name": "stdout",
     "output_type": "stream",
     "text": [
      "25000 train sequence\n",
      "25000 test sequence\n"
     ]
    }
   ],
   "source": [
    "print(len(x_train), 'train sequence')\n",
    "print(len(x_test),  'test sequence')"
   ]
  },
  {
   "cell_type": "code",
   "execution_count": 6,
   "id": "6000e196",
   "metadata": {},
   "outputs": [
    {
     "name": "stdout",
     "output_type": "stream",
     "text": [
      "Pad sequences (sample x time)\n"
     ]
    }
   ],
   "source": [
    "print('Pad sequences (sample x time)')\n",
    "x_train = pad_sequences(x_train, maxlen=max_len)\n",
    "x_test = pad_sequences(x_test, maxlen=max_len)"
   ]
  },
  {
   "cell_type": "code",
   "execution_count": 7,
   "id": "3410d094",
   "metadata": {},
   "outputs": [
    {
     "name": "stdout",
     "output_type": "stream",
     "text": [
      "x train shape :  (25000, 500)\n",
      "x test shape :  (25000, 500)\n"
     ]
    }
   ],
   "source": [
    "print('x train shape : ', x_train.shape)\n",
    "print('x test shape : ', x_test.shape)"
   ]
  },
  {
   "cell_type": "code",
   "execution_count": 8,
   "id": "4599bfa5",
   "metadata": {},
   "outputs": [],
   "source": [
    "from keras.models import Sequential\n",
    "from keras import layers\n",
    "from keras.optimizers import RMSprop"
   ]
  },
  {
   "cell_type": "code",
   "execution_count": 9,
   "id": "a554fda2",
   "metadata": {},
   "outputs": [],
   "source": [
    "model = Sequential()\n",
    "model.add(layers.Embedding(max_features, 128, input_length=max_len))\n",
    "model.add(layers.Conv1D(32, 7, activation='relu'))\n",
    "model.add(layers.MaxPooling1D(5))\n",
    "model.add(layers.Conv1D(32, 7, activation='relu'))\n",
    "model.add(layers.GlobalMaxPooling1D())\n",
    "model.add(layers.Dense(1))"
   ]
  },
  {
   "cell_type": "code",
   "execution_count": 10,
   "id": "1c7774ec",
   "metadata": {},
   "outputs": [
    {
     "name": "stdout",
     "output_type": "stream",
     "text": [
      "Model: \"sequential\"\n",
      "_________________________________________________________________\n",
      " Layer (type)                Output Shape              Param #   \n",
      "=================================================================\n",
      " embedding (Embedding)       (None, 500, 128)          1280000   \n",
      "                                                                 \n",
      " conv1d (Conv1D)             (None, 494, 32)           28704     \n",
      "                                                                 \n",
      " max_pooling1d (MaxPooling1D  (None, 98, 32)           0         \n",
      " )                                                               \n",
      "                                                                 \n",
      " conv1d_1 (Conv1D)           (None, 92, 32)            7200      \n",
      "                                                                 \n",
      " global_max_pooling1d (Globa  (None, 32)               0         \n",
      " lMaxPooling1D)                                                  \n",
      "                                                                 \n",
      " dense (Dense)               (None, 1)                 33        \n",
      "                                                                 \n",
      "=================================================================\n",
      "Total params: 1,315,937\n",
      "Trainable params: 1,315,937\n",
      "Non-trainable params: 0\n",
      "_________________________________________________________________\n"
     ]
    }
   ],
   "source": [
    "model.summary()"
   ]
  },
  {
   "cell_type": "code",
   "execution_count": 11,
   "id": "b17e8350",
   "metadata": {},
   "outputs": [],
   "source": [
    "model.compile(optimizer=RMSprop(learning_rate=1e-4),\n",
    "             loss = 'binary_crossentropy',\n",
    "             metrics = ['acc'])"
   ]
  },
  {
   "cell_type": "code",
   "execution_count": 12,
   "id": "1040b154",
   "metadata": {},
   "outputs": [
    {
     "name": "stdout",
     "output_type": "stream",
     "text": [
      "Epoch 1/10\n",
      "157/157 [==============================] - 43s 260ms/step - loss: 0.9147 - acc: 0.5102 - val_loss: 0.6889 - val_acc: 0.5372\n",
      "Epoch 2/10\n",
      "157/157 [==============================] - 39s 250ms/step - loss: 0.6730 - acc: 0.6392 - val_loss: 0.6644 - val_acc: 0.6678\n",
      "Epoch 3/10\n",
      "157/157 [==============================] - 44s 283ms/step - loss: 0.6273 - acc: 0.7495 - val_loss: 0.6114 - val_acc: 0.7390\n",
      "Epoch 4/10\n",
      "157/157 [==============================] - 41s 260ms/step - loss: 0.5361 - acc: 0.8073 - val_loss: 0.4934 - val_acc: 0.8018\n",
      "Epoch 5/10\n",
      "157/157 [==============================] - 39s 247ms/step - loss: 0.4102 - acc: 0.8450 - val_loss: 0.4154 - val_acc: 0.8386\n",
      "Epoch 6/10\n",
      "157/157 [==============================] - 39s 251ms/step - loss: 0.3356 - acc: 0.8798 - val_loss: 0.3986 - val_acc: 0.8534\n",
      "Epoch 7/10\n",
      "157/157 [==============================] - 40s 253ms/step - loss: 0.2935 - acc: 0.8954 - val_loss: 0.3953 - val_acc: 0.8598\n",
      "Epoch 8/10\n",
      "157/157 [==============================] - 39s 251ms/step - loss: 0.2620 - acc: 0.9096 - val_loss: 0.3983 - val_acc: 0.8676\n",
      "Epoch 9/10\n",
      "157/157 [==============================] - 39s 248ms/step - loss: 0.2366 - acc: 0.9179 - val_loss: 0.4230 - val_acc: 0.8732\n",
      "Epoch 10/10\n",
      "157/157 [==============================] - 37s 237ms/step - loss: 0.2128 - acc: 0.9273 - val_loss: 0.4337 - val_acc: 0.8758\n"
     ]
    }
   ],
   "source": [
    "history = model.fit(x_train, y_train, epochs=10, batch_size = 128,\n",
    "                   validation_split=0.2)"
   ]
  },
  {
   "cell_type": "code",
   "execution_count": null,
   "id": "04feee1a",
   "metadata": {},
   "outputs": [],
   "source": []
  }
 ],
 "metadata": {
  "kernelspec": {
   "display_name": "Python [conda env:Keras_DL_Book]",
   "language": "python",
   "name": "conda-env-Keras_DL_Book-py"
  },
  "language_info": {
   "codemirror_mode": {
    "name": "ipython",
    "version": 3
   },
   "file_extension": ".py",
   "mimetype": "text/x-python",
   "name": "python",
   "nbconvert_exporter": "python",
   "pygments_lexer": "ipython3",
   "version": "3.10.4"
  }
 },
 "nbformat": 4,
 "nbformat_minor": 5
}
